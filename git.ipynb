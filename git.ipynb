{
 "cells": [
  {
   "cell_type": "markdown",
   "metadata": {},
   "source": [
    "# 1. Getting Started"
   ]
  },
  {
   "cell_type": "markdown",
   "metadata": {},
   "source": [
    "\n",
    "> - Source Control Overview\n",
    "> - Version Control Systems Importance\n",
    "> - Central Version Control (CVC)\n",
    "> - Distributed Version Control (DVC)\n",
    "> - History of Git\n",
    "> - Popular Platforms for Version Control Systems\n",
    "> - Snapshots, Not Differences\n",
    "\n",
    "\n"
   ]
  },
  {
   "cell_type": "markdown",
   "metadata": {},
   "source": [
    "## Source Control Overview"
   ]
  },
  {
   "cell_type": "markdown",
   "metadata": {},
   "source": [
    "<img src=\"./images/git30.png\" alt=\"drawing\" width=\"500\" align=\"left\"/>\n",
    "<!--\n",
    "![alt text](./images/git1.png?raw=true)\n",
    "-->"
   ]
  },
  {
   "cell_type": "markdown",
   "metadata": {},
   "source": [
    "- Manual Change Tracking  \n",
    "    - Difficult to keep track of file changes, especially for large projects.\n",
    "    - No clear record of who made changes and why.\n",
    "    - Manually managing versions can lead to confusion about the most recent and accurate file.\n",
    "\n",
    "- No Centralized Backup  \n",
    "    - Losing work due to system crashes or accidental deletions.\n",
    "    - Lack of a single source of truth for the project.\n",
    "\n",
    "- No Centralized Backup  \n",
    "    - Losing work due to system crashes or accidental deletions.\n",
    "    - Lack of a single source of truth for the project.\n",
    "\n",
    "- Risk of Data Loss  \n",
    "    - Storing files only on local machines increases the risk of accidental loss or corruption.\n",
    "    - No centralized backup or recovery system in place.\n"
   ]
  },
  {
   "cell_type": "markdown",
   "metadata": {},
   "source": [
    "## Version Control Systems Importance"
   ]
  },
  {
   "cell_type": "markdown",
   "metadata": {},
   "source": [
    "<img src=\"./images/git31.png\" alt=\"drawing\" width=\"500\" align=\"left\"/>\n",
    "<!--\n",
    "![alt text](./images/git1.png?raw=true)\n",
    "-->"
   ]
  },
  {
   "cell_type": "markdown",
   "metadata": {},
   "source": [
    "- Efficient Change Tracking  \n",
    "    - Allows tracking of changes to big files and code over time.\n",
    "    - Provides a detailed history of who changed what and when.\n",
    "    \n",
    "\n",
    "- Collaboration Across Teams \n",
    "    - Enables multiple team members to work on the same project.\n",
    "    - Facilitates merging of changes without overwriting or conflicting with others' work.\n",
    "\n",
    "- Centralized/Distributed Storage  \n",
    "    - Avoids the need to save every version locally by storing data on a remote repository.\n",
    "    - Ensures backups and easy access from any location.\n",
    "\n",
    "- Conflict Management and Resolution  \n",
    "    - Detects and helps resolve code conflicts during collaboration.\n",
    "    - Maintains code integrity and minimizes errors."
   ]
  },
  {
   "cell_type": "markdown",
   "metadata": {},
   "source": [
    "## Centeral Version Control Systems"
   ]
  },
  {
   "cell_type": "markdown",
   "metadata": {},
   "source": [
    "<img src=\"./images/git35.png\" alt=\"drawing\" width=\"500\" align=\"left\"/>\n",
    "<!--\n",
    "![alt text](./images/git35.png?raw=true)\n",
    "-->"
   ]
  },
  {
   "cell_type": "markdown",
   "metadata": {},
   "source": [
    "- Single Central Repository  \n",
    "    - All team members access and work from a single central server.\n",
    "    \n",
    "- Simple and Easy to Manage \n",
    "    - Suitable for smaller teams and projects with straightforward workflows.\n",
    "\n",
    "- Requires Constant Server Access  \n",
    "    - Changes and updates depend on connectivity to the central server.\n",
    "\n",
    "- Risk of Single Point of Failure  \n",
    "    - If the central server is down, no one can collaborate or access the latest code."
   ]
  },
  {
   "cell_type": "markdown",
   "metadata": {},
   "source": [
    "## Distributed Version Control Systems"
   ]
  },
  {
   "cell_type": "markdown",
   "metadata": {},
   "source": [
    "<img src=\"./images/git36.jpg\" alt=\"drawing\" width=\"500\" align=\"left\"/>\n",
    "<!-- ![alt text](./images/git3.jpg) -->"
   ]
  },
  {
   "cell_type": "markdown",
   "metadata": {},
   "source": [
    "- Multiple Copies of the Repository  \n",
    "    - Every team member has a full copy of the repository, including its history.\n",
    "    \n",
    "- Offline Work Capabilities \n",
    "    - Developers can commit changes locally without relying on server availability.\n",
    "\n",
    "- Efficient Collaboration and Merging  \n",
    "    - Changes can be merged seamlessly from multiple contributors.\n",
    "\n",
    "- Resilience Against Data Loss \n",
    "    - No single point of failure since repositories exist on multiple machines."
   ]
  },
  {
   "cell_type": "markdown",
   "metadata": {},
   "source": [
    "## Popular Platforms for Version Control Systems"
   ]
  },
  {
   "cell_type": "markdown",
   "metadata": {},
   "source": [
    "- SVN (Apache Subversion) \n",
    "    - A centralized version control system still used for legacy and smaller projects.\n",
    "    - Features: Simplified setup, no need for local repositories, and strong permissions management.\n",
    "\n",
    "- GitHub \n",
    "    - A comprehensive platform offering Git-based version control and DevOps tools.\n",
    "    - Features: CI/CD pipelines, code review, and integrated issue tracking.\n",
    "\n",
    "- Bitbucket  \n",
    "    - Supports Git and Mercurial repositories, ideal for teams using Atlassian tools.\n",
    "    - Features: Integration with Jira, pull requests, and branch management.\n",
    "\n",
    "- Azure DevOps \n",
    "    - Provides Git-based repositories alongside DevOps tools.\n",
    "    - Features: Agile boards, pipelines for CI/CD, and integration with the Azure cloud ecosystem."
   ]
  },
  {
   "cell_type": "markdown",
   "metadata": {},
   "source": [
    "<img src=\"./images/git37.png\" alt=\"drawing\" width=\"700\" align=\"left\"/>\n",
    "<!--\n",
    "![alt text](./images/git37.png)\n",
    "-->"
   ]
  },
  {
   "cell_type": "markdown",
   "metadata": {},
   "source": [
    "## History of Git"
   ]
  },
  {
   "cell_type": "markdown",
   "metadata": {},
   "source": [
    "- Early Linux Kernel Development (1991–2002)  \n",
    "    - Changes were shared as patches and archived files, a manual and error-prone process.\n",
    "    \n",
    "\n",
    "- Adoption of BitKeeper (2002) \n",
    "    - The Linux kernel project began using BitKeeper, a proprietary Distributed Version Control System (DVCS), to streamline development.\n",
    "\n",
    "- Breakdown of BitKeeper Relationship (2005)  \n",
    "    - The collaboration between the Linux community and BitKeeper's creators ended, leading to the revocation of its free-of-charge status.\n",
    "\n",
    "- Birth of Git  \n",
    "    - Linus Torvalds and the Linux development community created Git, inspired by lessons learned from using BitKeeper, to fulfill their need for an open-source DVCS."
   ]
  },
  {
   "cell_type": "markdown",
   "metadata": {},
   "source": [
    "## Git\n",
    "> - Differnt than others (eg Subversion or Perforce)  \n",
    "> - Snapshots Not Differences"
   ]
  },
  {
   "cell_type": "markdown",
   "metadata": {},
   "source": [
    "<img src=\"./images/git4.jpg\" alt=\"drawing\" width=\"700\" align=\"left\"/>\n",
    "<!--\n",
    "![alt text](./images/git4.jpg)\n",
    "-->"
   ]
  },
  {
   "cell_type": "markdown",
   "metadata": {},
   "source": [
    "<img src=\"./images/git5.jpg\" alt=\"drawing\" width=\"700\" align=\"left\"/>\n",
    "<!-- \n",
    "![alt text](./images/git5.jpg)\n",
    "-->"
   ]
  },
  {
   "cell_type": "markdown",
   "metadata": {},
   "source": [
    "## Snapshots, Not Differences\n",
    "- Delta-Based Version Control in Traditional Systems  \n",
    "  - Most VCSs (e.g., CVS, Subversion, Perforce) store data as a list of file changes (deltas) over time.\n",
    "    \n",
    "\n",
    "- Git's Snapshot Model \n",
    "    - Git stores data as snapshots of the entire project at specific points in time.\n",
    "    - Each commit captures the state of all files at that moment.\n"
   ]
  },
 {
 "cell_type": "markdown",
   "metadata": {},
   "source": [
    "## First-Time Git Setup"
   ]
  },
  {
   "cell_type": "markdown",
   "metadata": {},
   "source": [
    "### Identity\n",
    "> ```$ git config --global user.name \"John Doe\"```  \n",
    "> ``$ git config --global user.email johndoe@example.com``  \n",
    "\n",
    "### Configurations\n",
    "  \n",
    "> - ``$ git config --global`` # User (global) -> ~/.gitconfig  \n",
    "> - ``$ git config --system`` # System -> /etc/gitconfig  \n",
    "> - ``$ git config ``         # Project -> <project>/.git/conifg  \n",
    "\n",
    "### Text Editor\n",
    "> ```$ git config --global core.editor vi [or code 🙂]```\n",
    "\n",
    "### Color Output\n",
    "> ``$ git config --global color.ui true``"
   ]
  },
  {
   "cell_type": "code",
   "execution_count": null,
   "metadata": {},
   "outputs": [],
   "source": [
    "!git config --global user.name \"John Doe\""
   ]
  },
  {
   "cell_type": "code",
   "execution_count": null,
   "metadata": {},
   "outputs": [],
   "source": [
    "!git config --global user.email johndoe@example.com"
   ]
  },
  {
   "cell_type": "code",
   "execution_count": null,
   "metadata": {},
   "outputs": [],
   "source": [
    "!git config --global core.editor vi # or vim,vi,code, etc."
   ]
  },
  {
   "cell_type": "code",
   "execution_count": null,
   "metadata": {},
   "outputs": [],
   "source": [
    "# Check your settings\n",
    "!git config --list # or git config user.name , etc."
   ]
  },
  {
   "cell_type": "markdown",
   "metadata": {},
   "source": [
    "***"
   ]
  },
  {
   "cell_type": "markdown",
   "metadata": {},
   "source": [
    "# 2. Git Basics"
   ]
  },
  {
   "cell_type": "markdown",
   "metadata": {},
   "source": [
    "> - Configure and initialize a repository  \n",
    "> - Begin and stop tracking files and stage and commit changes  \n",
    "> - Set up Git to ignore certain files and file patterns  \n",
    "> - Undo mistakes quickly and easily  \n",
    "> - Browse the history of your project   \n",
    "> - View changes between commits  \n",
    "> - Push and pull from remote repositories  "
   ]
  },
  {
   "cell_type": "markdown",
   "metadata": {},
   "source": [
    "## Getting a Git Repository"
   ]
  },
  {
   "cell_type": "markdown",
   "metadata": {},
   "source": [
    "### Initializing a Repository in an Existing Directory"
   ]
  },
  {
   "cell_type": "code",
   "execution_count": null,
   "metadata": {},
   "outputs": [],
   "source": [
    "# Make sure you are at the right top level directory\n",
    "!git init"
   ]
  },
  {
   "cell_type": "markdown",
   "metadata": {},
   "source": [
    "### The code base goes like this\n",
    "> ``$ cd /path/to/my/codebase``  \n",
    "> ``$ git init``  \n",
    "> ``$ git add .``  \n",
    "> ``$ git commit``"
   ]
  },
  {
   "cell_type": "markdown",
   "metadata": {},
   "source": [
    "So far nothing is tracked. To start tracking you must specifiy what to track in the directory using ``git add``.   \n",
    "Examples:  \n",
    "``$ git add *.py``   # only track files with .py extensions  \n",
    "or  \n",
    "``$ git add .``     # track everything  \n",
    "``$ git README``    # only track the file called README"
   ]
  },
  {
   "cell_type": "markdown",
   "metadata": {},
   "source": [
    "### Cloning an Existing Repository"
   ]
  },
  {
   "cell_type": "markdown",
   "metadata": {},
   "source": [
    "Cloning downloads everything with history!  \n",
    "It also initializes the local repo by copying the .git folder from remote:  \n",
    "``$ git clone https://github.com/libgit2/libgit2``  \n",
    "\n",
    "To create a new directory for the cloned repo:  \n",
    "``$ git clone https://github.com/libgit2/libgit2 myLibgit``"
   ]
  },
  {
   "cell_type": "code",
   "execution_count": null,
   "metadata": {},
   "outputs": [],
   "source": [
    "!git clone https://github.com/libgit2/libgit2"
   ]
  },
  {
   "cell_type": "markdown",
   "metadata": {},
   "source": [
    "## Recording Changes to the Repository"
   ]
  },
  {
   "cell_type": "markdown",
   "metadata": {},
   "source": [
    "**Remember!**  \n",
    "Each file is:\n",
    "- _Untracked_: (Git does not care about it but will keep alerting you)\n",
    "- _Tracked_:  \n",
    "    - Unmodified (Either never changed since tracked, or commited and never changed afterwards)\n",
    "    - Modified (Either doesn't have a snapshot or been changed since last commit)\n",
    "    - Staged (Had some changes and ready to be committed)"
   ]
  },
  {
   "cell_type": "markdown",
   "metadata": {},
   "source": [
    "<img src=\"./images/git7.jpg\" alt=\"drawing\" width=\"700\" align=\"left\"/>\n",
    "<!--\n",
    "![alt text](./images/git7.jpg)\n",
    "-->"
   ]
  },
  {
   "cell_type": "markdown",
   "metadata": {},
   "source": [
    "## Checking the Status of Your Files"
   ]
  },
  {
   "cell_type": "markdown",
   "metadata": {},
   "source": [
    "**Check the status of the file by:**  \n",
    "``$ git status``  \n",
    "``$ git status -s``  "
   ]
  },
  {
   "cell_type": "code",
   "execution_count": null,
   "metadata": {},
   "outputs": [],
   "source": [
    "!git status"
   ]
  },
  {
   "cell_type": "markdown",
   "metadata": {},
   "source": [
    "## Tracking New Files"
   ]
  },
  {
   "cell_type": "markdown",
   "metadata": {},
   "source": [
    "``$ git add README``"
   ]
  },
  {
   "cell_type": "code",
   "execution_count": null,
   "metadata": {},
   "outputs": [],
   "source": [
    "!git add README"
   ]
  },
  {
   "cell_type": "markdown",
   "metadata": {},
   "source": [
    "## Staging Modified Files"
   ]
  },
  {
   "cell_type": "markdown",
   "metadata": {},
   "source": [
    "**What happens when you modify a staged (not yet committed) file?**  \n",
    "**What options do we have?**"
   ]
  },
  {
   "cell_type": "markdown",
   "metadata": {},
   "source": [
    "## Ignoring Files"
   ]
  },
  {
   "cell_type": "markdown",
   "metadata": {},
   "source": [
    "- **Use .gitgnore file**  \n",
    "- **Use RegEx or glob patterns** \n",
    "- Examples:\n",
    "    - \\# a comment - this is ignored\n",
    "    - *.a       # no .a files\n",
    "    - !lib.a    # but do track lib.a, even though you're ignoring .a files above\n",
    "    - /TODO     # only ignore the root TODO file, not subdir/TODO\n",
    "    - build/    # ignore all files in the build/ directory\n",
    "    - doc/*.txt # ignore doc/notes.txt, but not doc/server/arch.txt\n",
    "\n",
    "- More templates for different languages are in [This GitHub Repo](https://github.com/github/gitignore)\n"
   ]
  },
  {
   "cell_type": "markdown",
   "metadata": {},
   "source": [
    "## What has changed?"
   ]
  },
  {
   "cell_type": "markdown",
   "metadata": {},
   "source": [
    "To see the changes between WD, Staged and Committed use ``git diff``  \n",
    "\n",
    "> ``$ git diff # To show differences between WD and staged area``  \n",
    "> ``$ git diff --cached # To show differencce between staged and Commiited``  \n",
    "\n",
    "### Show changes between Commits (Compare commits)\n",
    "> ``$ git diff <begincommitrefs>..<endcommitrefs> --color-words`` # Refs is the SHA of the commit"
   ]
  },
  {
   "cell_type": "code",
   "execution_count": null,
   "metadata": {
    "scrolled": false
   },
   "outputs": [],
   "source": [
    "!git diff "
   ]
  },
  {
   "cell_type": "markdown",
   "metadata": {},
   "source": [
    "## Committing Your Changes "
   ]
  },
  {
   "cell_type": "markdown",
   "metadata": {},
   "source": [
    "``$ git commit`` # this will launch the editor you chose earlier  \n",
    "``$ git commit -m \"<msg>\"`` # this will commit using the provided message  \n",
    "\n",
    "**Remember** that git commit will record changes in the staging area only.  \n",
    "Any modified but not staged files will remain the same"
   ]
  },
  {
   "cell_type": "markdown",
   "metadata": {},
   "source": [
    "# 4. CI Integraion\n"
   ]
  },
  {
   "cell_type": "markdown",
   "metadata": {},
   "source": [
    "## What is Continuous Integration (CI)?\n",
    "- Continuous Integration (CI) is a practice in software development where code changes are frequently merged into a shared repository, followed by automated builds and tests. This ensures the early detection of issues and speeds up development cycles.\n"
   ]
  },
  {
   "cell_type": "markdown",
   "metadata": {},
   "source": [
    "<img src=\"./images/c-i.jpg\" alt=\"drawing\" width=\"500\" height=400 align=\"left\"/>\n",
    "<!--\n",
    "![alt text](./images/git4.jpg)\n",
    "-->"
   ]
  },
  {
   "cell_type": "markdown",
   "metadata": {},
   "source": [
    "\n",
    "## The Old Way\n",
    "- Integration was manual and sporadic, often resulting in lengthy feedback loops.\n",
    "- Developers worked in isolation for weeks or months before merging changes, leading to conflicts and delays.\n",
    "- The process relied heavily on manual testing by integration teams and QA cycles.\n",
    "\n",
    "## The Modern CI Approach\n",
    "- CI uses automation tools to integrate and test code regularly, sometimes multiple times a day.\n",
    "\n",
    "### Key Principles of Modern CI\n",
    "1. **Automating Builds**: Converts manual build commands into scripts.\n",
    "2. **Automated Testing**: Runs unit, integration, and UI tests with every change.\n",
    "3. **Linting**: Enforces consistent code style.\n",
    "4. **Security Checks**: Identifies vulnerabilities early.\n",
    "\n",
    "\n"
   ]
  },
  {
   "cell_type": "markdown",
   "metadata": {},
   "source": [
    "# GitHub Actions:\n",
    "\n",
    "## 1. What is GitHub Actions?\n",
    "- A CI/CD tool built directly into GitHub.\n",
    "- Enables developers to automate workflows for building, testing, and deploying applications.\n",
    "- **Event-driven**: Triggered by GitHub events like:\n",
    "  - `push`\n",
    "  - `pull_request`\n",
    "  - `schedule`\n",
    "\n",
    "\n",
    "\n",
    "## 2. Key Concepts\n",
    "\n",
    "### **Workflows**\n",
    "- Defined using YAML files.\n",
    "- Stored in the `.github/workflows/` directory of a repository.\n",
    "\n",
    "\n",
    "<img src=\"./images/workflow.png\" alt=\"drawing\" width=\"400\" height=350 align=\"right\"/>\n",
    "<!--\n",
    "![alt text](./images/git4.jpg)\n",
    "-->\n",
    "\n",
    "\n",
    "### **Jobs**\n",
    "- A series of steps executed in an environment.\n",
    "- Multiple jobs can:\n",
    "  - Run in **parallel**.\n",
    "  - Depend on other jobs and run **sequentially**.\n",
    "\n",
    "### **Steps**\n",
    "- Individual tasks in a job.\n",
    "- Examples:\n",
    "  - Checking out code.\n",
    "  - Running scripts.\n",
    "  - Testing the application.\n",
    "\n",
    "### **Runners**\n",
    "- Machines that execute workflows.\n",
    "  - **GitHub-hosted runners**: Preconfigured environments.\n",
    "  - **Self-hosted runners**: Customizable and hosted by the user.\n",
    "\n",
    "\n",
    "\n",
    "\n",
    "\n",
    "## 3. Actions in GitHub Actions\n",
    "<img src=\"./images/checkout.jpg\" alt=\"drawing\" width=\"600\" height=300 align=\"right\"/>\n",
    "<!--\n",
    "![alt text](./images/checkout.jpg)\n",
    "-->\n",
    "\n",
    "### **What are Actions?**\n",
    "\n",
    "- Actions are reusable units of code that perform a specific task in a workflow.\n",
    "- Examples:\n",
    "  - Checkout code from a repository.\n",
    "  - Set up programming language environments.\n",
    "  - Deploy applications to cloud services.\n",
    "\n",
    "\n",
    "\n",
    "\n"
   ]
  },
  {
   "cell_type": "markdown",
   "metadata": {},
   "source": [
    "# Description of the pipeline\n",
    "\n",
    "\n",
    "\n",
    "### Understanding DevOps Pipeline\n",
    "\n",
    "The diagram illustrates a typical **DevOps pipeline** that automates the process of building, testing, and deploying applications. Below are the stages:\n",
    "\n",
    "<img src=\"./images/pip.png\" alt=\"drawing\" width=\"800\" height=400 align=\"center\"/>\n",
    "<!--\n",
    "![alt text](./images/checkout.jpg)\n",
    "-->"
   ]
  },
  {
   "cell_type": "markdown",
   "metadata": {},
   "source": [
    "\n",
    "\n",
    "\n",
    "1. **Unit Test**:\n",
    "    - Ensures core functionality.\n",
    "    \n",
    "\n",
    "2. **Code Coverage**:\n",
    "    - Verifies how much of the codebase is covered by tests.\n",
    "    \n",
    "\n",
    "3. **Docker**:\n",
    "    - Builds container images and pushes them to a repository.\n",
    "    \n",
    "\n",
    "4. **K8s Dev Deploy**:\n",
    "    - Deploys the application to the Kubernetes development environment.\n",
    "    \n",
    "\n",
    "5. **Integration Tests**:\n",
    "    - Validates the application's behavior as a whole.\n",
    "\n",
    "6. **Manual Approval**:\n",
    "    - Requires human intervention to approve deployment to production.\n",
    "\n",
    "7. **K8s Prod Deploy**:\n",
    "    - Deploys the application to the production Kubernetes cluster.\n",
    "\"\"\")\n"
   ]
  },
  {
   "cell_type": "markdown",
   "metadata": {},
   "source": [
    "\n",
    "\n",
    "### GitHub Packages in the Pipeline\n",
    "\n",
    "In our DevOps pipeline, **GitHub Packages** is used as a repository for managing and distributing Docker images.  \n",
    "Below is how it fits into the pipeline:\n",
    "<img src=\"./images/packi.png\" alt=\"drawing\" width=\"600\" height=400 align=\"center\"/>\n",
    "<!--\n",
    "![alt text](./images/packi.png)\n",
    "-->\n",
    "\n",
    "GitHub Packages ensures that our pipeline remains efficient, secure, and scalable.\n"
   ]
  },
  {
   "cell_type": "markdown",
   "metadata": {},
   "source": [
    "\n",
    "## Conclusion\n",
    "By using CI tools like GitHub Actions, development teams can streamline their workflows and maintain a high-quality codebase."
   ]
  }
 ],
 "metadata": {
  "kernelspec": {
   "display_name": "Python 3",
   "language": "python",
   "name": "python3"
  },
  "language_info": {
   "codemirror_mode": {
    "name": "ipython",
    "version": 3
   },
   "file_extension": ".py",
   "mimetype": "text/x-python",
   "name": "python",
   "nbconvert_exporter": "python",
   "pygments_lexer": "ipython3",
   "version": "3.13.1"
  }
 },
 "nbformat": 4,
 "nbformat_minor": 2
}
