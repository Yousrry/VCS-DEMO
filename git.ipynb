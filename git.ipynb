{
 "cells": [
  {
   "cell_type": "markdown",
   "metadata": {},
   "source": [
    "# 1. Getting Started"
   ]
  },
  {
   "cell_type": "markdown",
   "metadata": {},
   "source": [
    "\n",
    "> - Source Control Overview\n",
    "> - Source Control Systems Importance\n",
    "> - Central Source Control (CVC)\n",
    "> - Distributed Source Control (DVC)\n",
    "> - History of Git\n",
    "> - Popular Platforms for Source Control Systems\n",
    "> - Snapshots, Not Differences\n",
    "> - Branching Strategies\n",
    "> - Code Review & Collaboration\n",
    "> - CI Integration\n",
    "> - Best Practices \n",
    "\n",
    "\n"
   ]
  },
  {
   "cell_type": "markdown",
   "metadata": {},
   "source": [
    "## Source Control Overview"
   ]
  },
  {
   "cell_type": "markdown",
   "metadata": {},
   "source": [
    "<img src=\"./images/git30.png\" alt=\"drawing\" width=\"500\" align=\"left\"/>\n",
    "<!--\n",
    "![alt text](./images/git1.png?raw=true)\n",
    "-->"
   ]
  },
  {
   "cell_type": "markdown",
   "metadata": {},
   "source": [
    "- Manual Change Tracking  \n",
    "    - Difficult to keep track of file changes, especially for large projects.\n",
    "    - No clear record of who made changes and why.\n",
    "    - Manually managing versions can lead to confusion about the most recent and accurate file.\n",
    "\n",
    "- No Centralized Backup  \n",
    "    - Losing work due to system crashes or accidental deletions.\n",
    "    - Lack of a single source of truth for the project.\n",
    "\n",
    "- Risk of Data Loss  \n",
    "    - Storing files only on local machines increases the risk of accidental loss or corruption.\n",
    "    - No centralized backup or recovery system in place.\n"
   ]
  },
  {
   "cell_type": "markdown",
   "metadata": {},
   "source": [
    "## Source Control Systems Importance"
   ]
  },
  {
   "cell_type": "markdown",
   "metadata": {},
   "source": [
    "<img src=\"./images/git31.png\" alt=\"drawing\" width=\"500\" align=\"left\"/>\n",
    "<!--\n",
    "![alt text](./images/git1.png?raw=true)\n",
    "-->"
   ]
  },
  {
   "cell_type": "markdown",
   "metadata": {},
   "source": [
    "- Efficient Change Tracking  \n",
    "    - Allows tracking of changes to big files and code over time.\n",
    "    - Provides a detailed history of who changed what and when.\n",
    "    \n",
    "\n",
    "- Collaboration Across Teams \n",
    "    - Enables multiple team members to work on the same project.\n",
    "    - Facilitates merging of changes without overwriting or conflicting with others' work.\n",
    "\n",
    "- Centralized/Distributed Storage  \n",
    "    - Avoids the need to save every version locally by storing data on a remote repository.\n",
    "    - Ensures backups and easy access from any location.\n",
    "\n",
    "- Conflict Management and Resolution  \n",
    "    - Detects and helps resolve code conflicts during collaboration.\n",
    "    - Maintains code integrity and minimizes errors."
   ]
  },
  {
   "cell_type": "markdown",
   "metadata": {},
   "source": [
    "## Centeral Source Control Systems"
   ]
  },
  {
   "cell_type": "markdown",
   "metadata": {},
   "source": [
    "<img src=\"./images/git35.png\" alt=\"drawing\" width=\"500\" align=\"left\"/>\n",
    "<!--\n",
    "![alt text](./images/git35.png?raw=true)\n",
    "-->"
   ]
  },
  {
   "cell_type": "markdown",
   "metadata": {},
   "source": [
    "- Single Central Repository  \n",
    "    - All team members access and work from a single central server.\n",
    "    \n",
    "- Simple and Easy to Manage \n",
    "    - Suitable for smaller teams and projects with straightforward workflows.\n",
    "\n",
    "- Requires Constant Server Access  \n",
    "    - Changes and updates depend on connectivity to the central server.\n",
    "\n",
    "- Risk of Single Point of Failure  \n",
    "    - If the central server is down, no one can collaborate or access the latest code."
   ]
  },
  {
   "cell_type": "markdown",
   "metadata": {},
   "source": [
    "## Distributed Source Control Systems"
   ]
  },
  {
   "cell_type": "markdown",
   "metadata": {},
   "source": [
    "<img src=\"./images/git36.jpg\" alt=\"drawing\" width=\"500\" align=\"left\"/>\n",
    "<!-- ![alt text](./images/git3.jpg) -->"
   ]
  },
  {
   "cell_type": "markdown",
   "metadata": {},
   "source": [
    "- Multiple Copies of the Repository  \n",
    "    - Every team member has a full copy of the repository, including its history.\n",
    "    \n",
    "- Offline Work Capabilities \n",
    "    - Developers can commit changes locally without relying on server availability.\n",
    "\n",
    "- Efficient Collaboration and Merging  \n",
    "    - Changes can be merged seamlessly from multiple contributors.\n",
    "\n",
    "- Resilience Against Data Loss \n",
    "    - No single point of failure since repositories exist on multiple machines."
   ]
  },
  {
   "cell_type": "markdown",
   "metadata": {},
   "source": [
    "## Popular Platforms for Source Control Systems"
   ]
  },
  {
   "cell_type": "markdown",
   "metadata": {},
   "source": [
    "- SVN (Apache Subversion) \n",
    "    - A centralized version control system still used for legacy and smaller projects.\n",
    "    - Features: Simplified setup, no need for local repositories, and strong permissions management.\n",
    "\n",
    "- GitHub \n",
    "    - A comprehensive platform offering Git-based version control and DevOps tools.\n",
    "    - Features: CI/CD pipelines, code review, and integrated issue tracking.\n",
    "\n",
    "- Bitbucket  \n",
    "    - Supports Git and Mercurial repositories, ideal for teams using Atlassian tools.\n",
    "    - Features: Integration with Jira, pull requests, and branch management.\n",
    "\n",
    "- Azure DevOps \n",
    "    - Provides Git-based repositories alongside DevOps tools.\n",
    "    - Features: Agile boards, pipelines for CI/CD, and integration with the Azure cloud ecosystem."
   ]
  },
  {
   "cell_type": "markdown",
   "metadata": {},
   "source": [
    "<img src=\"./images/git37.png\" alt=\"drawing\" width=\"700\" align=\"left\"/>\n",
    "<!--\n",
    "![alt text](./images/git37.png)\n",
    "-->"
   ]
  },
  {
   "cell_type": "markdown",
   "metadata": {},
   "source": [
    "## History of Git"
   ]
  },
  {
   "cell_type": "markdown",
   "metadata": {},
   "source": [
    "- Early Linux Kernel Development (1991–2002)  \n",
    "    - Changes were shared as patches and archived files, a manual and error-prone process.\n",
    "    \n",
    "\n",
    "- Adoption of BitKeeper (2002) \n",
    "    - The Linux kernel project began using BitKeeper, a proprietary Distributed Version Control System (DVCS), to streamline development.\n",
    "\n",
    "- Breakdown of BitKeeper Relationship (2005)  \n",
    "    - The collaboration between the Linux community and BitKeeper's creators ended, leading to the revocation of its free-of-charge status.\n",
    "\n",
    "- Birth of Git  \n",
    "    - Linus Torvalds and the Linux development community created Git, inspired by lessons learned from using BitKeeper, to fulfill their need for an open-source DVCS."
   ]
  },
  {
   "cell_type": "markdown",
   "metadata": {},
   "source": [
    "## Git\n",
    "> - Differnt than others (eg Subversion or Perforce)  \n",
    "> - Snapshots Not Differences"
   ]
  },
  {
   "cell_type": "markdown",
   "metadata": {},
   "source": [
    "<img src=\"./images/git4.jpg\" alt=\"drawing\" width=\"700\" align=\"left\"/>\n",
    "<!--\n",
    "![alt text](./images/git4.jpg)\n",
    "-->"
   ]
  },
  {
   "cell_type": "markdown",
   "metadata": {},
   "source": [
    "<img src=\"./images/git5.jpg\" alt=\"drawing\" width=\"700\" align=\"left\"/>\n",
    "<!-- \n",
    "![alt text](./images/git5.jpg)\n",
    "-->"
   ]
  },
  {
   "cell_type": "markdown",
   "metadata": {},
   "source": [
    "## Snapshots, Not Differences\n",
    "- Delta-Based Version Control in Traditional Systems  \n",
    "  - Most VCSs (e.g., CVS, Subversion, Perforce) store data as a list of file changes (deltas) over time.\n",
    "    \n",
    "\n",
    "- Git's Snapshot Model \n",
    "    - Git stores data as snapshots of the entire project at specific points in time.\n",
    "    - Each commit captures the state of all files at that moment.\n"
   ]
  },
  {
   "cell_type": "markdown",
   "metadata": {},
   "source": [
    "## First-Time Git Setup"
   ]
  },
  {
   "cell_type": "markdown",
   "metadata": {},
   "source": [
    "### Identity\n",
    "> ```$ git config --global user.name \"John Doe\"```  \n",
    "> ``$ git config --global user.email johndoe@example.com``  \n",
    "\n",
    "### Configurations\n",
    "  \n",
    "> - ``$ git config --global`` # User (global) -> ~/.gitconfig  \n",
    "> - ``$ git config --system`` # System -> /etc/gitconfig  \n",
    "> - ``$ git config ``         # Project -> <project>/.git/conifg  \n",
    "\n",
    "### Text Editor\n",
    "> ```$ git config --global core.editor vi [or code 🙂]```\n",
    "\n",
    "### Color Output\n",
    "> ``$ git config --global color.ui true``"
   ]
  },
  {
   "cell_type": "code",
   "execution_count": null,
   "metadata": {},
   "outputs": [],
   "source": [
    "!git config --global user.name \"John Doe\""
   ]
  },
  {
   "cell_type": "code",
   "execution_count": null,
   "metadata": {},
   "outputs": [],
   "source": [
    "!git config --global user.email johndoe@example.com"
   ]
  },
  {
   "cell_type": "code",
   "execution_count": null,
   "metadata": {},
   "outputs": [],
   "source": [
    "!git config --global core.editor vi # or vim,vi,code, etc."
   ]
  },
  {
   "cell_type": "code",
   "execution_count": null,
   "metadata": {},
   "outputs": [],
   "source": [
    "# Check your settings\n",
    "!git config --list # or git config user.name , etc."
   ]
  },
  {
   "cell_type": "markdown",
   "metadata": {},
   "source": [
    "***"
   ]
  },
  {
   "cell_type": "markdown",
   "metadata": {},
   "source": [
    "# 2. Git Basics"
   ]
  },
  {
   "cell_type": "markdown",
   "metadata": {},
   "source": [
    "> - Configure and initialize a repository  \n",
    "> - Begin and stop tracking files and stage and commit changes  \n",
    "> - Set up Git to ignore certain files and file patterns  \n",
    "> - Undo mistakes quickly and easily  \n",
    "> - Browse the history of your project   \n",
    "> - View changes between commits  \n",
    "> - Push and pull from remote repositories  "
   ]
  },
  {
   "cell_type": "markdown",
   "metadata": {},
   "source": [
    "## Getting a Git Repository"
   ]
  },
  {
   "cell_type": "markdown",
   "metadata": {},
   "source": [
    "### Initializing a Repository in an Existing Directory"
   ]
  },
  {
   "cell_type": "code",
   "execution_count": null,
   "metadata": {},
   "outputs": [],
   "source": [
    "# Make sure you are at the right top level directory\n",
    "!git init"
   ]
  },
  {
   "cell_type": "markdown",
   "metadata": {},
   "source": [
    "So far nothing is tracked. To start tracking you must specifiy what to track in the directory using ``git add``.   \n",
    "Examples:  \n",
    "``$ git add *.py``   # only track files with .py extensions  \n",
    "or  \n",
    "``$ git add .``     # track everything  \n",
    "``$ git README``    # only track the file called README"
   ]
  },
  {
   "cell_type": "markdown",
   "metadata": {},
   "source": [
    "### Cloning an Existing Repository"
   ]
  },
  {
   "cell_type": "markdown",
   "metadata": {},
   "source": [
    "Cloning downloads everything with history!  \n",
    "It also initializes the local repo by copying the .git folder from remote:  \n",
    "``$ git clone https://github.com/libgit2/libgit2``  \n",
    "\n",
    "To create a new directory for the cloned repo:  \n",
    "``$ git clone https://github.com/libgit2/libgit2 myLibgit``"
   ]
  },
  {
   "cell_type": "code",
   "execution_count": null,
   "metadata": {},
   "outputs": [],
   "source": [
    "!git clone https://github.com/libgit2/libgit2"
   ]
  },
  {
   "cell_type": "markdown",
   "metadata": {},
   "source": [
    "## Recording Changes to the Repository"
   ]
  },
  {
   "cell_type": "markdown",
   "metadata": {},
   "source": [
    "**Remember!**  \n",
    "Each file is:\n",
    "- _Untracked_: (Git does not care about it but will keep alerting you)\n",
    "- _Tracked_:  \n",
    "    - Unmodified (Either never changed since tracked, or commited and never changed afterwards)\n",
    "    - Modified (Either doesn't have a snapshot or been changed since last commit)\n",
    "    - Staged (Had some changes and ready to be committed)"
   ]
  },
  {
   "cell_type": "markdown",
   "metadata": {},
   "source": [
    "<img src=\"./images/git7.jpg\" alt=\"drawing\" width=\"700\" align=\"left\"/>\n",
    "<!--\n",
    "![alt text](./images/git7.jpg)\n",
    "-->"
   ]
  },
  {
   "cell_type": "markdown",
   "metadata": {},
   "source": [
    "## Checking the Status of Your Files"
   ]
  },
  {
   "cell_type": "markdown",
   "metadata": {},
   "source": [
    "**Check the status of the file by:**  \n",
    "``$ git status``  \n",
    "``$ git status -s``  "
   ]
  },
  {
   "cell_type": "code",
   "execution_count": null,
   "metadata": {},
   "outputs": [],
   "source": [
    "!git status"
   ]
  },
  {
   "cell_type": "markdown",
   "metadata": {},
   "source": [
    "## Tracking New Files"
   ]
  },
  {
   "cell_type": "markdown",
   "metadata": {},
   "source": [
    "``$ git add README``"
   ]
  },
  {
   "cell_type": "code",
   "execution_count": null,
   "metadata": {},
   "outputs": [],
   "source": [
    "!git add README"
   ]
  },
  {
   "cell_type": "markdown",
   "metadata": {},
   "source": [
    "## Staging Modified Files"
   ]
  },
  {
   "cell_type": "markdown",
   "metadata": {},
   "source": [
    "**What happens when you modify a staged (not yet committed) file?**  \n",
    "**What options do we have?**"
   ]
  },
  {
   "cell_type": "markdown",
   "metadata": {},
   "source": [
    "## Ignoring Files"
   ]
  },
  {
   "cell_type": "markdown",
   "metadata": {},
   "source": [
    "- **Use .gitgnore file**  \n",
    "- **Use RegEx or glob patterns** \n",
    "- Examples:\n",
    "    - \\# a comment - this is ignored\n",
    "    - *.a       # no .a files\n",
    "    - !lib.a    # but do track lib.a, even though you're ignoring .a files above\n",
    "    - /TODO     # only ignore the root TODO file, not subdir/TODO\n",
    "    - build/    # ignore all files in the build/ directory\n",
    "    - doc/*.txt # ignore doc/notes.txt, but not doc/server/arch.txt\n",
    "\n",
    "- More templates for different languages are in [This GitHub Repo](https://github.com/github/gitignore)\n"
   ]
  },
  {
   "cell_type": "markdown",
   "metadata": {},
   "source": [
    "## What has changed?"
   ]
  },
  {
   "cell_type": "markdown",
   "metadata": {},
   "source": [
    "To see the changes between WD, Staged and Committed use ``git diff``  \n",
    "\n",
    "  \n",
    "> ``$ git diff --cached # To show differencce between staged and Commiited``  \n",
    "\n",
    "### Show changes between Commits (Compare commits)\n",
    "> ``$ git diff <begincommitrefs>..<endcommitrefs> --color-words`` # Refs is the SHA of the commit"
   ]
  },
  {
   "cell_type": "code",
   "execution_count": null,
   "metadata": {
    "scrolled": false
   },
   "outputs": [],
   "source": [
    "!git diff "
   ]
  },
  {
   "cell_type": "markdown",
   "metadata": {},
   "source": [
    "## Committing Your Changes "
   ]
  },
  {
   "cell_type": "markdown",
   "metadata": {},
   "source": [
    "``$ git commit`` # this will launch the editor you chose earlier  \n",
    "``$ git commit -m \"<msg>\"`` # this will commit using the provided message  \n",
    "\n",
    "**Remember** that git commit will record changes in the staging area only.  \n",
    "Any modified but not staged files will remain the same"
   ]
  },
  {
   "cell_type": "markdown",
   "metadata": {},
   "source": [
    "## Skipping the Staging Area "
   ]
  },
  {
   "cell_type": "markdown",
   "metadata": {},
   "source": [
    "``$ git commit -a -m \"<msg>\"``"
   ]
  },
  {
   "cell_type": "markdown",
   "metadata": {},
   "source": [
    "## Removing Files "
   ]
  },
  {
   "cell_type": "markdown",
   "metadata": {},
   "source": [
    "``$ git rm <filename> # removes file from tracking and from filesystem``  \n",
    "``$ git rm --cached <file> # removes file from staging (i.e. unstaging file)``  \n",
    "\n",
    "**Remember** that even operations on the file level need to be committed!"
   ]
  },
  {
   "cell_type": "markdown",
   "metadata": {},
   "source": [
    "## Moving Files"
   ]
  },
  {
   "cell_type": "markdown",
   "metadata": {},
   "source": [
    "Git doesn’t explicitly track file movement. If you rename a file in Git,  \n",
    "no metadata is stored in Git that tells it you renamed the file ☹️​  \n",
    "\n",
    "``$ git mv file_from file_to``"
   ]
  },
  {
   "cell_type": "markdown",
   "metadata": {},
   "source": [
    "## Viewing the Commit History"
   ]
  },
  {
   "cell_type": "markdown",
   "metadata": {},
   "source": [
    "**Very simple!**  \n",
    "> ``$ git log``  \n",
    "\n",
    "Some formatting could be useful when you have a long complex history.  \n",
    "Try cloning the following repo and check its commit history.  \n",
    "> ``$ git clone https://github.com/schacon/simplegit-progit``  \n",
    "\n",
    "**Try:**  \n",
    "> ``$ git log -p -2``  \n",
    "> ``$ git log --stat``  \n",
    "> ``$ git log --pretty=oneline``  \n",
    "> ``$ git log --pretty=format:\"%h - %an, %ar : %s\"``  \n",
    "> ``$ git log --pretty=format:\"%h %s\" --graph``  \n",
    "\n",
    "\n",
    "**Limiting Log Output**\n",
    "> ``$ git log --since=2.weeks``\n",
    "\n",
    "**Show Commit**  \n",
    "> ``$ git show <commitrefs>`` # Refs is the SHA of the commit  "
   ]
  },
  {
   "cell_type": "markdown",
   "metadata": {},
   "source": [
    "## Undoing Things"
   ]
  },
  {
   "cell_type": "markdown",
   "metadata": {},
   "source": [
    "### Change the most recent Commit\n",
    "**If you forgot to add files or messed up the commit message**  \n",
    "> ``$ git commit --amend``  \n",
    "\n",
    "**The following results in a single commit**  \n",
    "> ``$ git commit -m 'initial commit'``  \n",
    "> ``$ git add forgotten_file``  \n",
    "> ``$ git commit --amend``  \n",
    "\n",
    "### Untracking tracked file\n",
    "> ``$ git rm --cached <filename>``  \n",
    "\n",
    " \n",
    "\n",
    "### Unmodifying a Modified File  \n",
    "**REVERTING IT FROM THE LAST COMMIT**  \n",
    "> ``$ git restore <filename>``\n",
    "    \n",
    "### Restore (revert) a committed change  \n",
    "**This will revert everything committed in a specific commit. That's why it's better to have atomic commits**\n",
    "> ``$ git revert <commitrefs>``  \n",
    "\n"
   ]
  },
  {
   "cell_type": "markdown",
   "metadata": {},
   "source": [
    "## Working with Remotes"
   ]
  },
  {
   "cell_type": "markdown",
   "metadata": {},
   "source": [
    "### Showing Your Remotes  \n",
    "> ``$ git clone https://github.com/schacon/ticgit``  \n",
    "> ``$ git remote``  \n",
    "> ``$ git remote -v``  \n",
    "\n",
    "### Add a remote to an existing repo  \n",
    "> ``$ git remote add [shortname] [url]``\n",
    "\n",
    "### Fetching from Remote \n",
    "fetches any new work that has been pushed to  \n",
    "that server since you cloned (or last fetched from) it**  \n",
    "\n",
    "> ``$ git fetch [remote-name]``  \n",
    "\n",
    "**IMPORTANT: Fetch doesn’t automatically merge it with any  \n",
    "of your work or modify what you’re currently working on.  \n",
    "You have to merge it manually into your work when you’re ready.**  \n",
    "\n",
    "### Pushing to Your Remotes  \n",
    "**Means uploading any changes you have made to the remote that**  \n",
    "> ``$ git push [remote-name] [branch-name]``"
   ]
  },
  {
   "attachments": {
    "image.png": {
     "image/png": "[encoded data removed]"
    }
   },
   "cell_type": "markdown",
   "metadata": {},
   "source": [
    "![image.png](attachment:image.png)"
   ]
  },
  {
   "cell_type": "markdown",
   "metadata": {},
   "source": [
    "### Inspecting a Remote\n",
    "**See more information about a particular remote**  \n",
    "> ``$ git remote show [remote-name]``  \n",
    "> ``$ git remote show origin``  "
   ]
  },
  {
   "cell_type": "markdown",
   "metadata": {},
   "source": [
    "### Removing and Renaming Remotes\n",
    "> ``$ git remote rename [current-remote-name] [new-remote-name]``  \n",
    "\n",
    "**If you want to remove a remote for some reason—you’ve moved  \n",
    "the server or are no longer using a particular mirror,  \n",
    "or perhaps a contributor isn’t contributing anymore**  \n",
    "> ``$ git remote rm [remote-name]``  \n",
    "\n",
    "### Inspecting a Remote\n",
    "**see more information about a particular remote**  \n",
    "> ``$ git remote show [remote-name]``  \n",
    "> ``$ git remote show origin`` "
   ]
  },
  {
   "cell_type": "markdown",
   "metadata": {},
   "source": [
    "## Tagging"
   ]
  },
  {
   "cell_type": "markdown",
   "metadata": {},
   "source": [
    "**Tagging is like marking a specific commit at a specific  \n",
    "point in history. Typically used to mark release points**  \n",
    "(e.g. v1.0, v1.5, etc.)"
   ]
  },
  {
   "cell_type": "markdown",
   "metadata": {},
   "source": [
    "### Listing your tags\n",
    "> ``$ git tag``  \n",
    "\n",
    "### Creating Tags\n",
    "**Two types of tags:**  \n",
    "- Lightweight: very much like a branch that doesn’t change—it’s just a pointer to a specific commit.\n",
    "- Annotated: stored as full objects in the Git database.  \n",
    "\n",
    "### Annotated Tags \n",
    "**can be created when committing**  \n",
    "> ``$ git tag -a <version> -m \"<msg>\"``  \n",
    "> ``$ git show <version>``  \n",
    "\n",
    "### Lightweight Tags\n",
    "**Just a commit checksum added to a file, no more info stored.**  \n",
    "> ``$ git tag <version>``  \n",
    "> ``$ git show <version>``"
   ]
  },
  {
   "cell_type": "markdown",
   "metadata": {},
   "source": [
    "### Tagging Later \n",
    "**If you have some previous commits and you forgot to tag  \n",
    "you can later on tag a previous commit by referring  \n",
    "to its checksum**  \n",
    "> ``$ git tag -a <version> [commit-checksum]``  \n",
    "\n",
    "**Remember that you can retrieve the commits checkshum by using the following**\n",
    "> ``$ git log --pretty=oneline``  \n",
    "\n",
    "### Sharing Tags \n",
    "**By default git push doesn't push tags. You mush specify**  \n",
    "> ``$ git push [remote-name] [tagname]``"
   ]
  },
  {
   "cell_type": "markdown",
   "metadata": {},
   "source": [
    "********"
   ]
  },
  {
   "cell_type": "markdown",
   "metadata": {},
   "source": [
    "## 3. Git Branching"
   ]
  },
  {
   "cell_type": "markdown",
   "metadata": {},
   "source": [
    "### Revise how Git stores data\n",
    "\n",
    "\n"
   ]
  },
  {
   "cell_type": "markdown",
   "metadata": {},
   "source": [
    "**A branch in Git is simply a lightweight movable pointer to one of these commits.** "
   ]
  },
  {
   "cell_type": "markdown",
   "metadata": {},
   "source": [
    "<img src=\"./images/git9.jpg\" alt=\"drawing\" width=\"700\" align=\"left\"/>"
   ]
  },
  {
   "cell_type": "markdown",
   "metadata": {},
   "source": [
    "### Creating a New Branch"
   ]
  },
  {
   "cell_type": "markdown",
   "metadata": {},
   "source": [
    "### To create a new branch without switching to it  \n",
    "``$ git branch testing``"
   ]
  },
  {
   "cell_type": "markdown",
   "metadata": {},
   "source": [
    "<img src=\"./images/git10.jpg\" alt=\"drawing\" width=\"700\" align=\"left\"/>"
   ]
  },
  {
   "cell_type": "markdown",
   "metadata": {},
   "source": [
    "**After creating the branch without switching to it the HEAD pointer will still be pointing at the current branch**  \n",
    "<img src=\"./images/git11.jpg\" alt=\"drawing\" width=\"700\" align=\"left\"/>"
   ]
  },
  {
   "cell_type": "code",
   "execution_count": null,
   "metadata": {},
   "outputs": [],
   "source": [
    "# Typical code\n",
    "!cd /.git/refs/heads # A file for each branch, currently only a file named 'master'\n",
    "!git branch testing  # A new branch called 'testing' is created\n",
    "!git branch          # list all existing branches\n",
    "!git show HEAD       # will show that the current HEAD points to both branches master and testing\n",
    "!ls .git/refs/heads # now the directory has two files: master and testing\n",
    "!git log --oneline --decorate # to see where the HEAD is currently pointing at, for now it should point at both branches"
   ]
  },
  {
   "cell_type": "markdown",
   "metadata": {},
   "source": [
    "### Switching Branches\n",
    "``$ git switch <branch-name>`` # The new command starting 2.23  \n",
    "``$ git checkout <branch-name>`` # The old command  \n",
    "\n",
    "**Switching to another branch simply moves the HEAD poiter to that branch**  \n",
    "<img src=\"./images/git12.jpg\" alt=\"drawing\" width=\"700\" align=\"left\"/>"
   ]
  },
  {
   "cell_type": "markdown",
   "metadata": {},
   "source": [
    "**While by default the new branch will start at the current revision you can still create a new branch at a previous revision by adding the revision's sha at the end of the command**\n",
    "``git branch <branch-name> <SHA>``"
   ]
  },
  {
   "cell_type": "code",
   "execution_count": null,
   "metadata": {},
   "outputs": [],
   "source": [
    "!git switch testing # to switch to testing branch\n",
    "# do some change to any file in the working tree\n",
    "!git commit -am \"A first commit to the testing branch\" # A commit is made and the HEAD pointer will point at testing only\n",
    "!git log --oneline # make sure that now HEAD points at testing only\n",
    "!git switch master # switch back to master\n",
    "!git log --online # now HEAD points at master only\n",
    "!git log --all --online #  '--all' easier to show the log for all branchers regardless of the current branch\n"
   ]
  },
  {
   "cell_type": "markdown",
   "metadata": {},
   "source": [
    "<img src=\"./images/git13.jpg\" alt=\"drawing\" width=\"700\" align=\"left\"/>"
   ]
  },
  {
   "cell_type": "markdown",
   "metadata": {},
   "source": [
    "**IMPORTANT: switching to a different branch not only moves the HEAD pointer to that branch but also reverts the contents of the working tree to that point in time. Moving the HEAD is like rewinding**\n"
   ]
  },
  {
   "cell_type": "code",
   "execution_count": null,
   "metadata": {},
   "outputs": [],
   "source": [
    "# To watch the HEAD movement in action try this\n",
    "!git switch testing # Switch to testing branch\n",
    "# Change something in README.txt\n",
    "!git commit -am \"Changes README.txt\" # commit the changes\n",
    "!git switch master # switch back to master branch\n",
    "# Check the README file and make sure it was reverted back\n"
   ]
  },
  {
   "cell_type": "markdown",
   "metadata": {},
   "source": [
    "### Divergent History\n",
    "\n",
    "> 1. Created and switched to a branch  \n",
    "> 2. Did some work on it  \n",
    "> 3. Switched back to your main branch  \n",
    "> 4. Did other work  \n",
    "\n",
    "**Both of those changes are isolated in separate branches**\n",
    "<img src=\"./images/git14.jpg\" alt=\"drawing\" width=\"700\" align=\"left\"/>"
   ]
  },
  {
   "cell_type": "code",
   "execution_count": null,
   "metadata": {},
   "outputs": [],
   "source": [
    "#print out the history of your commits, showing where your branch pointers are and how your history has diverged.\n",
    "!git log --oneline --decorate --graph --all "
   ]
  },
  {
   "cell_type": "markdown",
   "metadata": {},
   "source": [
    "## Merging"
   ]
  },
  {
   "cell_type": "markdown",
   "metadata": {},
   "source": [
    "### 1. Fast-Forward\n",
    "### 2. 3-way merge\n",
    "### 3. Rebase"
   ]
  },
  {
   "cell_type": "code",
   "execution_count": 1,
   "metadata": {},
   "outputs": [],
   "source": [
    "# do some changes to a file then commit it (c0 is the initial commit, c1 and c2 are two subsequent commits)\n",
    "# now the current branch is master and HEAD points to it at C2git b"
   ]
  },
  {
   "cell_type": "markdown",
   "metadata": {},
   "source": [
    "<img src=\"./images/git15.jpg\" alt=\"drawing\" width=\"700\" align=\"left\"/>"
   ]
  },
  {
   "cell_type": "code",
   "execution_count": null,
   "metadata": {},
   "outputs": [],
   "source": [
    "!git checkout -b iss53 #creates a branch called iss53 and switches to it\n",
    "# now the both branches are at C2 and the HEAD is now pointing to iss53"
   ]
  },
  {
   "cell_type": "markdown",
   "metadata": {},
   "source": [
    "<img src=\"./images/git16.jpg\" alt=\"drawing\" width=\"700\" align=\"left\"/>"
   ]
  },
  {
   "cell_type": "code",
   "execution_count": 2,
   "metadata": {},
   "outputs": [],
   "source": [
    "# do some change to the file and commit \n",
    "# now the iss53 branch is at C3 and the master branch is left at C2 and the HEAD is still pointing to iss53"
   ]
  },
  {
   "cell_type": "markdown",
   "metadata": {},
   "source": [
    "<img src=\"./images/git17.jpg\" alt=\"drawing\" width=\"800\" align=\"left\"/>"
   ]
  },
  {
   "cell_type": "code",
   "execution_count": null,
   "metadata": {},
   "outputs": [],
   "source": [
    "!git checkout master # switches back to master branch\n",
    "!git checkout -b hotfix # creates a new branch called hotfix and switches to it\n",
    "# now the current branch is hotfix and it's at C4, master is still left at C2 and the HEAD points to hotfix"
   ]
  },
  {
   "cell_type": "markdown",
   "metadata": {},
   "source": [
    "<img src=\"./images/git18.jpg\" alt=\"drawing\" width=\"800\" align=\"left\"/>"
   ]
  },
  {
   "cell_type": "code",
   "execution_count": null,
   "metadata": {},
   "outputs": [],
   "source": [
    "!git checkout master # switches back to master\n",
    "!git merge hotfix \n",
    "# merges hotfix branch with master, in other words fast-forwards master to C4 commit and the HEAD now points at master"
   ]
  },
  {
   "cell_type": "markdown",
   "metadata": {},
   "source": [
    "<img src=\"./images/git19.jpg\" alt=\"drawing\" width=\"800\" align=\"left\"/>"
   ]
  },
  {
   "cell_type": "code",
   "execution_count": null,
   "metadata": {},
   "outputs": [],
   "source": [
    "!git branch -d hotfix # -d option deletes the branch hotfix as it's no longer needed\n",
    "!git checkout iss53 # switches back to branch iss53 to continue working on the issue\n",
    "# do some changes\n",
    "!git commit -am \"some changes committed at iss53\" # commit them, now you have C5 where iss53 branch is currently at\n"
   ]
  },
  {
   "cell_type": "markdown",
   "metadata": {},
   "source": [
    "<img src=\"./images/git20.jpg\" alt=\"drawing\" width=\"800\" align=\"left\"/>"
   ]
  },
  {
   "cell_type": "markdown",
   "metadata": {},
   "source": [
    "**Now what happens if you want to merge iss53 branch into master?**  \n",
    "**It is not the same as what we did with hotfix as now the current commits (C5 in iss53 and C4 in master) don't have the same ancestor**"
   ]
  },
  {
   "cell_type": "markdown",
   "metadata": {},
   "source": [
    "<img src=\"./images/git21.jpg\" alt=\"drawing\" width=\"800\" align=\"left\"/>"
   ]
  },
  {
   "cell_type": "markdown",
   "metadata": {},
   "source": [
    "**Instead of just moving the branch pointer forward, Git creates a new snapshot that results from this three-way merge and automatically creates a new commit that points to it. This is referred to as a merge commit, and is special in that it has more than one parent.**"
   ]
  },
  {
   "cell_type": "code",
   "execution_count": null,
   "metadata": {},
   "outputs": [],
   "source": [
    "!git checkout master\n",
    "!git merge iss53"
   ]
  },
  {
   "cell_type": "markdown",
   "metadata": {},
   "source": [
    "<img src=\"./images/git22.jpg\" alt=\"drawing\" width=\"800\" align=\"left\"/>"
   ]
  },
  {
   "cell_type": "code",
   "execution_count": null,
   "metadata": {},
   "outputs": [],
   "source": [
    "!git branch -d iss53 # now you can delete the iss53 branch as it's no longer needed"
   ]
  },
  {
   "cell_type": "markdown",
   "metadata": {},
   "source": [
    "### Merge Conflicts"
   ]
  },
  {
   "cell_type": "markdown",
   "metadata": {},
   "source": [
    "**If you try to do merge commit with conflicting files in both branches git will notify you and abort the process**\n",
    "**To check the conflicting portions of the file use ``git status`` then resolve the conflict then commit then merge again**"
   ]
  },
  {
   "cell_type": "code",
   "execution_count": null,
   "metadata": {},
   "outputs": [],
   "source": [
    "!git branch -v # to list all branches along with the last commit per each branch. * character indicates the current HEAD pointer"
   ]
  },
  {
   "cell_type": "code",
   "execution_count": null,
   "metadata": {},
   "outputs": [],
   "source": [
    "!git branch --merged # to view branches already merged with the current branch\n",
    "!git branch --no-merged # list all branches that aren't merged with the current\n",
    "!git branch -d testing # will attempt to delete the testing branch but will fail if it has unmerged work\n",
    "!git branch -D testing # will forcibly delete the testing branch even if it has unmerged work\n",
    "!git branch --move bad-branch-name corrected-branch-name # rename a branch. CAREFUL not to rename a branch currently shared\n",
    "!git branch --move master main # you can also rename the master branch as it is exactly similar to any other branch"
   ]
  },
  {
   "cell_type": "code",
   "execution_count": null,
   "metadata": {},
   "outputs": [],
   "source": [
    "# verify that the local log now has new references as in remote\n",
    "# can you understand the graph?\n",
    "\n",
    "!git log --oneline --all --graph"
   ]
  },
  {
   "cell_type": "markdown",
   "metadata": {},
   "source": [
    "## Merging  \n",
    "`` $ git checkout experiment``  \n",
    "`` $ git merge master``  \n",
    "<img src=\"./images/git26.jpg\" alt=\"drawing\" width=\"800\" align=\"left\"/>  \n",
    "<img src=\"./images/git27.jpg\" alt=\"drawing\" width=\"800\" align=\"left\"/>  "
   ]
  },
  {
   "cell_type": "markdown",
   "metadata": {},
   "source": [
    "## Rebasing\n",
    "`` $ git checkout experiment``  \n",
    "`` $ git rebase master``  \n",
    "<img src=\"./images/git28.jpg\" alt=\"drawing\" width=\"800\" align=\"left\"/>\n",
    "<img src=\"./images/git29.jpg\" alt=\"drawing\" width=\"800\" align=\"left\"/>"
   ]
  },
  {
   "cell_type": "markdown",
   "metadata": {},
   "source": [
    "## Advanced Topics "
   ]
  },
  {
   "cell_type": "markdown",
   "metadata": {},
   "source": [
    "## Git stash"
   ]
  },
  {
   "cell_type": "code",
   "execution_count": null,
   "metadata": {},
   "outputs": [],
   "source": [
    "git status # to see that the local master branch is behind the remote master branch\n",
    "git stash # to stash the local changes\n",
    "git sash list # to list all stashes\n",
    "git stash apply # to apply the stashed changes\n",
    "git stash drop # to drop the stashed changes\n",
    "git stash pop # to apply and drop the stashed changes\n",
    "git stash clear # to clear all stashes\n"
   ]
  },
  {
   "cell_type": "markdown",
   "metadata": {},
   "source": [
    "## Git Blame"
   ]
  },
  {
   "cell_type": "code",
   "execution_count": null,
   "metadata": {},
   "outputs": [],
   "source": [
    "git blame README.md # to see who made the changes in the file and when\n",
    "git show HEAD~2:README.md # to see the content of the README file at the second last commit\n",
    "git log --oneline -- README.md # to see the history of the README file only\n",
    "git log --oneline -- README.md -- README2.md # to see the history of two files\n",
    "git log --oneline --since=2.weeks # to see the history of the last two weeks\n",
    "git log -S \"some text\" # to search for a specific text in the history\n"
   ]
  },
  {
   "cell_type": "markdown",
   "metadata": {},
   "source": [
    "## Git bisect\n"
   ]
  },
  {
   "cell_type": "code",
   "execution_count": null,
   "metadata": {},
   "outputs": [],
   "source": [
    "git bisect    # Use binary search to find the commit that introduced a bug \n",
    "git bisect start  # Start the binary search \n",
    "git bisect bad  # Tell Git that the current commit is the first bad commit\n",
    "git bisect good (commit sha or tag v2.6.13)  # Tell Git that a known good commit was v2.6.13 or since sha -----\n",
    "git bisect reset  # Finish the bisect session and return to the original HEAD\n",
    "git bisect log  # Show the history of the bisect session"
   ]
  },
  {
   "attachments": {
    "image.png": {
     "image/png": "[encoded data removed]"
    }
   },
   "cell_type": "markdown",
   "metadata": {},
   "source": [
    "![image.png](attachment:image.png)"
   ]
  },
  {
   "cell_type": "markdown",
   "metadata": {},
   "source": [
    "## Git Hooks"
   ]
  },
  {
   "cell_type": "code",
   "execution_count": null,
   "metadata": {},
   "outputs": [],
   "source": [
    "git hooks   # Scripts that run automatically when a particular event occurs in a Git repository\n",
    "git hooks --no-verify  # Bypass the pre-commit and commit-msg hooks\n",
    "git hooks --no-post-rewrite  # Bypass the post-rewrite hook\n",
    "location of hooks: .git/hooks"
   ]
  },
  {
   "cell_type": "markdown",
   "metadata": {},
   "source": [
    "## Git cherry-pick"
   ]
  },
  {
   "cell_type": "code",
   "execution_count": null,
   "metadata": {},
   "outputs": [],
   "source": [
    "git cherry-pick <commit>  # Introduce a commit from another branch into the current branch\n",
    "git cherry-pick --continue  # Continue the cherry-pick process\n",
    "git cherry-pick --quit  # Cancel the cherry-pick process\n",
    "git cherry-pick --abort  # Cancel the cherry-pick process and return to the original HEAD\n"
   ]
  },
  {
   "cell_type": "markdown",
   "metadata": {},
   "source": [
    "# Github"
   ]
  },
  {
   "cell_type": "markdown",
   "metadata": {},
   "source": [
    "GitHub is a cloud-based platform where you can store, share, and work together with others to write code.\n",
    "\n",
    "Storing your code in a \"repository\" on GitHub allows you to:\n",
    "\n",
    "Showcase or share your work.\n",
    "Track and manage changes to your code over time.\n",
    "Let others review your code, and make suggestions to improve it.\n",
    "Collaborate on a shared project, without worrying that your changes will impact the work of your collaborators before you're ready to integrate them.\n",
    "Collaborative working, one of GitHub’s fundamental features, is made possible by the open-source software, Git, upon which GitHub is built."
   ]
  },
  {
   "cell_type": "markdown",
   "metadata": {},
   "source": [
    "## What is Continuous Integration (CI)?\n",
    "- Continuous Integration (CI) is a practice in software development where code changes are frequently merged into a shared repository, followed by automated builds and tests. This ensures the early detection of issues and speeds up development cycles.\n"
   ]
  },
  {
   "cell_type": "markdown",
   "metadata": {},
   "source": [
    "<img src=\"./images/c-i.jpg\" alt=\"drawing\" width=\"500\" height=400 align=\"left\"/>\n",
    "<!--\n",
    "![alt text](./images/git4.jpg)\n",
    "-->"
   ]
  },
  {
   "cell_type": "markdown",
   "metadata": {},
   "source": [
    "\n",
    "## The Old Way\n",
    "- Integration was manual and sporadic, often resulting in lengthy feedback loops.\n",
    "- Developers worked in isolation for weeks or months before merging changes, leading to conflicts and delays.\n",
    "- The process relied heavily on manual testing by integration teams and QA cycles.\n",
    "\n",
    "## The Modern CI Approach\n",
    "- CI uses automation tools to integrate and test code regularly, sometimes multiple times a day.\n",
    "\n",
    "### Key Principles of Modern CI\n",
    "1. **Automating Builds**: Converts manual build commands into scripts.\n",
    "2. **Automated Testing**: Runs unit, integration, and UI tests with every change.\n",
    "3. **Linting**: Enforces consistent code style.\n",
    "4. **Security Checks**: Identifies vulnerabilities early.\n",
    "\n",
    "\n"
   ]
  },
  {
   "cell_type": "markdown",
   "metadata": {},
   "source": [
    "# GitHub Actions:\n",
    "\n",
    "## 1. What is GitHub Actions?\n",
    "- A CI/CD tool built directly into GitHub.\n",
    "- Enables developers to automate workflows for building, testing, and deploying applications.\n",
    "- **Event-driven**: Triggered by GitHub events like:\n",
    "  - `push`\n",
    "  - `pull_request`\n",
    "  - `schedule`\n",
    "\n",
    "\n",
    "\n",
    "## 2. Key Concepts\n",
    "\n",
    "### **Workflows**\n",
    "- Defined using YAML files.\n",
    "- Stored in the `.github/workflows/` directory of a repository.\n",
    "\n",
    "\n",
    "<img src=\"./images/workflow.png\" alt=\"drawing\" width=\"400\" height=350 align=\"right\"/>\n",
    "<!--\n",
    "![alt text](./images/git4.jpg)\n",
    "-->\n",
    "\n",
    "\n",
    "### **Jobs**\n",
    "- A series of steps executed in an environment.\n",
    "- Multiple jobs can:\n",
    "  - Run in **parallel**.\n",
    "  - Depend on other jobs and run **sequentially**.\n",
    "\n",
    "### **Steps**\n",
    "- Individual tasks in a job.\n",
    "- Examples:\n",
    "  - Checking out code.\n",
    "  - Running scripts.\n",
    "  - Testing the application.\n",
    "\n",
    "### **Runners**\n",
    "- Machines that execute workflows.\n",
    "  - **GitHub-hosted runners**: Preconfigured environments.\n",
    "  - **Self-hosted runners**: Customizable and hosted by the user.\n",
    "\n",
    "\n",
    "\n",
    "\n",
    "\n",
    "## 3. Actions in GitHub Actions\n",
    "<img src=\"./images/checkout.jpg\" alt=\"drawing\" width=\"600\" height=300 align=\"right\"/>\n",
    "<!--\n",
    "![alt text](./images/checkout.jpg)\n",
    "-->\n",
    "\n",
    "### **What are Actions?**\n",
    "\n",
    "- Actions are reusable units of code that perform a specific task in a workflow.\n",
    "- Examples:\n",
    "  - Checkout code from a repository.\n",
    "  - Set up programming language environments.\n",
    "  - Deploy applications to cloud services.\n",
    "\n",
    "\n",
    "\n",
    "\n"
   ]
  },
  {
   "cell_type": "markdown",
   "metadata": {},
   "source": [
    "# Description of the pipeline\n",
    "\n",
    "\n",
    "\n",
    "### Understanding DevOps Pipeline\n",
    "\n",
    "The diagram illustrates a typical **DevOps pipeline** that automates the process of building, testing, and deploying applications. Below are the stages:\n",
    "\n",
    "<img src=\"./images/pip.png\" alt=\"drawing\" width=\"800\" height=400 align=\"center\"/>\n",
    "<!--\n",
    "![alt text](./images/checkout.jpg)\n",
    "-->"
   ]
  },
  {
   "cell_type": "markdown",
   "metadata": {},
   "source": [
    "\n",
    "\n",
    "\n",
    "1. **Unit Test**:\n",
    "    - Ensures core functionality.\n",
    "    \n",
    "\n",
    "2. **Code Coverage**:\n",
    "    - Verifies how much of the codebase is covered by tests.\n",
    "    \n",
    "\n",
    "3. **Docker**:\n",
    "    - Builds container images and pushes them to a repository.\n",
    "    \n",
    "\n",
    "4. **K8s Dev Deploy**:\n",
    "    - Deploys the application to the Kubernetes development environment.\n",
    "    \n",
    "\n",
    "5. **Integration Tests**:\n",
    "    - Validates the application's behavior as a whole.\n",
    "\n",
    "6. **Manual Approval**:\n",
    "    - Requires human intervention to approve deployment to production.\n",
    "\n",
    "7. **K8s Prod Deploy**:\n",
    "    - Deploys the application to the production Kubernetes cluster.\n",
    "\"\"\")\n"
   ]
  },
  {
   "cell_type": "markdown",
   "metadata": {},
   "source": [
    "\n",
    "\n",
    "### GitHub Packages in the Pipeline\n",
    "\n",
    "In our DevOps pipeline, **GitHub Packages** is used as a repository for managing and distributing Docker images.  \n",
    "Below is how it fits into the pipeline:\n",
    "<img src=\"./images/packi.png\" alt=\"drawing\" width=\"600\" height=400 align=\"center\"/>\n",
    "<!--\n",
    "![alt text](./images/packi.png)\n",
    "-->\n",
    "\n",
    "GitHub Packages ensures that our pipeline remains efficient, secure, and scalable.\n"
   ]
  },
  {
   "cell_type": "markdown",
   "metadata": {},
   "source": [
    "\n",
    "## Conclusion\n",
    "By using CI tools like GitHub Actions, development teams can streamline their workflows and maintain a high-quality codebase."
   ]
  }
 ],
 "metadata": {
  "kernelspec": {
   "display_name": "Python 3",
   "language": "python",
   "name": "python3"
  },
  "language_info": {
   "codemirror_mode": {
    "name": "ipython",
    "version": 3
   },
   "file_extension": ".py",
   "mimetype": "text/x-python",
   "name": "python",
   "nbconvert_exporter": "python",
   "pygments_lexer": "ipython3",
   "version": "3.13.1"
  }
 },
 "nbformat": 4,
 "nbformat_minor": 2
}
